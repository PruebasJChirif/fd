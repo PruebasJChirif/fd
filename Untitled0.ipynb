{
  "nbformat": 4,
  "nbformat_minor": 0,
  "metadata": {
    "colab": {
      "provenance": []
    },
    "kernelspec": {
      "name": "python3",
      "display_name": "Python 3"
    },
    "language_info": {
      "name": "python"
    }
  },
  "cells": [
    {
      "cell_type": "code",
      "source": [
        "import pandas as pd"
      ],
      "metadata": {
        "id": "VMJhHA8Ewdeb"
      },
      "execution_count": null,
      "outputs": []
    },
    {
      "cell_type": "code",
      "source": [
        "Distance = [2.5, 2.5, 2.5, 2.5, 2.5, 2.5, 2.5, 2.5, 2.5, 2.5, 2.5, 2.5, 2.5, 2.5, 2.5, 2.5, 2.5, 2.5, 2.5, 2.5, 2.5, 2.5, 2.5, 2.5, 2.5, 2.5, 2.5, 2.5, 2.5, 2.5, 2.5, 2.5, 2.5, 2.5, 2.5, 2.5, 2.5, 2.5, 13.5, 13.5, 13.5, 13.5, 13.5, 13.5, 13.5, 13.5, 13.5, 13.5, 13.5, 13.5, 13.5, 13.5, 13.5, 13.5, 13.5, 13.5, 13.5, 13.5, 13.5, 13.5, 13.5, 13.5, 13.5, 13.5, 13.5, 13.5, 13.5, 13.5, 13.5, 13.5, 13.5, 13.5, 13.5, 13.5, 13.5, 13.5, 13.5, 13.5, 3.3, 3.3, 3.3, 3.3, 3.3, 3.3, 3.3, 3.3, 3.3, 3.3, 3.3, 3.3, 3.3, 3.3, 3.3, 3.3, 3.3, 3.3, 3.3, 3.3, 3.3, 3.3, 3.3, 3.3, 3.3, 3.3, 3.3, 3.3, 3.3, 3.3, 3.3, 3.3, 3.3, 3.3, 3.3, 3.3, 3.3, 3.3, 3.3, 3.3, 3.3, 3.3, 6.4, 6.4, 6.4, 6.4, 6.4, 6.4, 6.4, 6.4, 6.4, 6.4, 6.4, 6.4, 6.4, 6.4, 6.4, 6.4, 6.4, 6.4, 6.4, 6.4, 6.4, 13.8, 13.8, 13.8, 13.8, 13.8, 13.8, 13.8, 13.8, 13.8, 13.8, 13.8, 13.8, 13.8, 13.8, 13.8, 13.8, 13.8, 13.8, 13.8, 13.8, 13.8, 13.8, 13.8, 13.8, 13.8, 13.8, 13.8, 13.8, 13.8, 13.8, 13.8, 13.8, 13.8, 13.8, 13.8, 13.8, 13.8, 13.8, 13.8, 13.8, 13.8, 13.8, 13.8, 13.8, 13.8, 11.1, 11.1, 11.1, 11.1, 11.1, 11.1, 11.1, 11.1, 11.1, 11.1, 11.1, 11.1, 11.1, 11.1, 11.1, 11.1, 11.1, 11.1, 11.1, 11.1, 11.1, 11.1, 11.1, 11.1, 11.1, 11.1, 11.1, 11.1, 11.1, 11.1, 11.1, 11.1, 11.1, 11.1, 11.1, 6.3, 6.3, 6.3, 6.3, 6.3, 6.3, 6.3, 6.3, 6.3, 6.3, 6.3, 6.3, 6.3, 6.3, 6.3, 6.3, 6.3, 6.3, 6.3, 6.3, 6.3, 6.3, 6.3, 6.3, 6.3, 6.3, 6.3, 6.3, 6.3, 6.3, 6.3, 6.3, 6.3, 6.3, 6.3, 6.3, 6.3, 6.3, 6.3, 6.3, 6.3, 6.3, 6.3, 6.3, 6.3, 6.3, 6.3, 6.3, 6.3, 6.3, 6.3, 6.3, 6.3, 6.3, 6.3, 6.3, 6.3, 6.3, 6.3, 6.3, 6.3, 6.3, 5.9, 5.9, 5.9, 5.9, 5.9, 5.9, 5.9, 5.9, 5.9, 5.9, 5.9, 5.9, 5.9, 5.9, 5.9, 5.9, 5.9, 5.9, 5.9, 5.9, 5.9, 5.9, 5.9, 5.9, 5.9, 5.9, 5.9, 5.9, 5.9, 5.9, 5.9, 5.9, 5.9, 5.9, 5.9, 5.9, 5.9, 5.9, 5.9, 5.9, 5.9, 5.9, 5.9, 5.9, 5.9, 5.9, 5.9, 5.9, 5.9, 5.9, 5.9, 5.9, 5.9, 5.9, 5.9]"
      ],
      "metadata": {
        "id": "rgUoUyzCwjTN"
      },
      "execution_count": null,
      "outputs": []
    },
    {
      "cell_type": "code",
      "source": [
        "suburs = [\"Abbotsford\",\"Abbotsford\",\"Abbotsford\",\"Abbotsford\",\"Abbotsford\",\"Abbotsford\",\"Abbotsford\",\"Abbotsford\",\"Abbotsford\",\"Abbotsford\",\"Abbotsford\",\"Abbotsford\",\"Abbotsford\",\"Abbotsford\",\"Abbotsford\",\"Abbotsford\",\"Abbotsford\",\"Abbotsford\",\"Abbotsford\",\"Abbotsford\",\"Abbotsford\",\"Abbotsford\",\"Abbotsford\",\"Abbotsford\",\"Abbotsford\",\"Abbotsford\",\"Abbotsford\",\"Abbotsford\",\"Abbotsford\",\"Abbotsford\",\"Abbotsford\",\"Abbotsford\",\"Abbotsford\",\"Abbotsford\",\"Abbotsford\",\"Abbotsford\",\"Abbotsford\",\"Abbotsford\",\"Airport West\",\"Airport West\",\"Airport West\",\"Airport West\",\"Airport West\",\"Airport West\",\"Airport West\",\"Airport West\",\"Airport West\",\"Airport West\",\"Airport West\",\"Airport West\",\"Airport West\",\"Airport West\",\"Airport West\",\"Airport West\",\"Airport West\",\"Airport West\",\"Airport West\",\"Airport West\",\"Airport West\",\"Airport West\",\"Airport West\",\"Airport West\",\"Airport West\",\"Airport West\",\"Airport West\",\"Airport West\",\"Airport West\",\"Airport West\",\"Airport West\",\"Airport West\",\"Airport West\",\"Airport West\",\"Airport West\",\"Airport West\",\"Airport West\",\"Airport West\",\"Airport West\",\"Airport West\",\"Albert Park\",\"Albert Park\",\"Albert Park\",\"Albert Park\",\"Albert Park\",\"Albert Park\",\"Albert Park\",\"Albert Park\",\"Albert Park\",\"Albert Park\",\"Albert Park\",\"Albert Park\",\"Albert Park\",\"Albert Park\",\"Albert Park\",\"Albert Park\",\"Albert Park\",\"Albert Park\",\"Albert Park\",\"Albert Park\",\"Albert Park\",\"Albert Park\",\"Albert Park\",\"Albert Park\",\"Albert Park\",\"Albert Park\",\"Albert Park\",\"Albert Park\",\"Albert Park\",\"Albert Park\",\"Albert Park\",\"Albert Park\",\"Albert Park\",\"Albert Park\",\"Albert Park\",\"Albert Park\",\"Albert Park\",\"Albert Park\",\"Albert Park\",\"Albert Park\",\"Albert Park\",\"Albert Park\",\"Alphington\",\"Alphington\",\"Alphington\",\"Alphington\",\"Alphington\",\"Alphington\",\"Alphington\",\"Alphington\",\"Alphington\",\"Alphington\",\"Alphington\",\"Alphington\",\"Alphington\",\"Alphington\",\"Alphington\",\"Alphington\",\"Alphington\",\"Alphington\",\"Alphington\",\"Alphington\",\"Alphington\",\"Altona\",\"Altona\",\"Altona\",\"Altona\",\"Altona\",\"Altona\",\"Altona\",\"Altona\",\"Altona\",\"Altona\",\"Altona\",\"Altona\",\"Altona\",\"Altona\",\"Altona\",\"Altona\",\"Altona\",\"Altona\",\"Altona\",\"Altona\",\"Altona\",\"Altona\",\"Altona\",\"Altona\",\"Altona\",\"Altona\",\"Altona\",\"Altona\",\"Altona\",\"Altona\",\"Altona\",\"Altona\",\"Altona\",\"Altona\",\"Altona\",\"Altona\",\"Altona\",\"Altona\",\"Altona\",\"Altona\",\"Altona\",\"Altona\",\"Altona\",\"Altona\",\"Altona\",\"Altona North\",\"Altona North\",\"Altona North\",\"Altona North\",\"Altona North\",\"Altona North\",\"Altona North\",\"Altona North\",\"Altona North\",\"Altona North\",\"Altona North\",\"Altona North\",\"Altona North\",\"Altona North\",\"Altona North\",\"Altona North\",\"Altona North\",\"Altona North\",\"Altona North\",\"Altona North\",\"Altona North\",\"Altona North\",\"Altona North\",\"Altona North\",\"Altona North\",\"Altona North\",\"Altona North\",\"Altona North\",\"Altona North\",\"Altona North\",\"Altona North\",\"Altona North\",\"Altona North\",\"Altona North\",\"Altona North\",\"Armadale\",\"Armadale\",\"Armadale\",\"Armadale\",\"Armadale\",\"Armadale\",\"Armadale\",\"Armadale\",\"Armadale\",\"Armadale\",\"Armadale\",\"Armadale\",\"Armadale\",\"Armadale\",\"Armadale\",\"Armadale\",\"Armadale\",\"Armadale\",\"Armadale\",\"Armadale\",\"Armadale\",\"Armadale\",\"Armadale\",\"Armadale\",\"Armadale\",\"Armadale\",\"Armadale\",\"Armadale\",\"Armadale\",\"Armadale\",\"Armadale\",\"Armadale\",\"Armadale\",\"Armadale\",\"Armadale\",\"Armadale\",\"Armadale\",\"Armadale\",\"Armadale\",\"Armadale\",\"Armadale\",\"Armadale\",\"Armadale\",\"Armadale\",\"Armadale\",\"Armadale\",\"Armadale\",\"Armadale\",\"Armadale\",\"Armadale\",\"Armadale\",\"Armadale\",\"Armadale\",\"Armadale\",\"Armadale\",\"Armadale\",\"Armadale\",\"Armadale\",\"Armadale\",\"Armadale\",\"Armadale\",\"Armadale\",\"Ascot Vale\",\"Ascot Vale\",\"Ascot Vale\",\"Ascot Vale\",\"Ascot Vale\",\"Ascot Vale\",\"Ascot Vale\",\"Ascot Vale\",\"Ascot Vale\",\"Ascot Vale\",\"Ascot Vale\",\"Ascot Vale\",\"Ascot Vale\",\"Ascot Vale\",\"Ascot Vale\",\"Ascot Vale\",\"Ascot Vale\",\"Ascot Vale\",\"Ascot Vale\",\"Ascot Vale\",\"Ascot Vale\",\"Ascot Vale\",\"Ascot Vale\",\"Ascot Vale\",\"Ascot Vale\",\"Ascot Vale\",\"Ascot Vale\",\"Ascot Vale\",\"Ascot Vale\",\"Ascot Vale\",\"Ascot Vale\",\"Ascot Vale\",\"Ascot Vale\",\"Ascot Vale\",\"Ascot Vale\",\"Ascot Vale\",\"Ascot Vale\",\"Ascot Vale\",\"Ascot Vale\",\"Ascot Vale\",\"Ascot Vale\",\"Ascot Vale\",\"Ascot Vale\",\"Ascot Vale\",\"Ascot Vale\",\"Ascot Vale\",\"Ascot Vale\",\"Ascot Vale\",\"Ascot Vale\",\"Ascot Vale\",\"Ascot Vale\",\"Ascot Vale\",\"Ascot Vale\",\"Ascot Vale\",\"Ascot Vale\"]"
      ],
      "metadata": {
        "id": "ulhyQtEtxAH9"
      },
      "execution_count": null,
      "outputs": []
    },
    {
      "cell_type": "code",
      "source": [
        "df = pd.DataFrame({\"Suburbs\": suburs, \"Distance\": Distance})"
      ],
      "metadata": {
        "id": "wW2NevaYxibg"
      },
      "execution_count": null,
      "outputs": []
    },
    {
      "cell_type": "code",
      "source": [
        "bins"
      ],
      "metadata": {
        "colab": {
          "base_uri": "https://localhost:8080/"
        },
        "id": "ldLYHYlyBK9V",
        "outputId": "d7635608-a739-42a0-b71d-1ac0546f83db"
      },
      "execution_count": null,
      "outputs": [
        {
          "output_type": "execute_result",
          "data": {
            "text/plain": [
              "range(0, 16, 3)"
            ]
          },
          "metadata": {},
          "execution_count": 15
        }
      ]
    },
    {
      "cell_type": "code",
      "source": [
        "labels"
      ],
      "metadata": {
        "colab": {
          "base_uri": "https://localhost:8080/"
        },
        "id": "U35DUG9XBLGM",
        "outputId": "81d84a2b-1cf7-4c01-846f-7ed5ad7bf91e"
      },
      "execution_count": null,
      "outputs": [
        {
          "output_type": "execute_result",
          "data": {
            "text/plain": [
              "['0-3', '3-6', '6-9', '9-12', '12-15']"
            ]
          },
          "metadata": {},
          "execution_count": 12
        }
      ]
    },
    {
      "cell_type": "code",
      "execution_count": null,
      "metadata": {
        "colab": {
          "base_uri": "https://localhost:8080/"
        },
        "id": "92b5cCcWwcPd",
        "outputId": "a8fdc388-75c9-4045-ea50-ad3efd30bfd1"
      },
      "outputs": [
        {
          "output_type": "stream",
          "name": "stdout",
          "text": [
            "       Suburbs  Distance DistanceRange\n",
            "0   Abbotsford       2.5        [0, 3)\n",
            "1   Abbotsford       2.5        [0, 3)\n",
            "2   Abbotsford       2.5        [0, 3)\n",
            "3   Abbotsford       2.5        [0, 3)\n",
            "4   Abbotsford       2.5        [0, 3)\n",
            "5   Abbotsford       2.5        [0, 3)\n",
            "6   Abbotsford       2.5        [0, 3)\n",
            "7   Abbotsford       2.5        [0, 3)\n",
            "8   Abbotsford       2.5        [0, 3)\n",
            "9   Abbotsford       2.5        [0, 3)\n",
            "10  Abbotsford       2.5        [0, 3)\n",
            "11  Abbotsford       2.5        [0, 3)\n",
            "12  Abbotsford       2.5        [0, 3)\n",
            "13  Abbotsford       2.5        [0, 3)\n",
            "14  Abbotsford       2.5        [0, 3)\n",
            "15  Abbotsford       2.5        [0, 3)\n",
            "16  Abbotsford       2.5        [0, 3)\n",
            "17  Abbotsford       2.5        [0, 3)\n",
            "18  Abbotsford       2.5        [0, 3)\n",
            "19  Abbotsford       2.5        [0, 3)\n",
            "20  Abbotsford       2.5        [0, 3)\n",
            "21  Abbotsford       2.5        [0, 3)\n",
            "22  Abbotsford       2.5        [0, 3)\n",
            "23  Abbotsford       2.5        [0, 3)\n",
            "24  Abbotsford       2.5        [0, 3)\n",
            "25  Abbotsford       2.5        [0, 3)\n",
            "26  Abbotsford       2.5        [0, 3)\n",
            "27  Abbotsford       2.5        [0, 3)\n",
            "28  Abbotsford       2.5        [0, 3)\n",
            "29  Abbotsford       2.5        [0, 3)\n",
            "30  Abbotsford       2.5        [0, 3)\n",
            "31  Abbotsford       2.5        [0, 3)\n",
            "32  Abbotsford       2.5        [0, 3)\n"
          ]
        }
      ],
      "source": [
        "# Crear los bins de 3 en 3 y las etiquetas para los rangos\n",
        "bins = range(0, int(df['Distance'].max()) + 3, 3)\n",
        "labels = [f'{i}-{i+3}' for i in bins[:-1]]\n",
        "\n",
        "# Crear una nueva columna 'DistanceRange' usando pd.cut\n",
        "df['DistanceRange'] = pd.cut(df['Distance'], bins=bins, right=False)\n",
        "\n",
        "print(df.head(33))"
      ]
    },
    {
      "cell_type": "code",
      "source": [
        "x=int(input(\"XD\"))"
      ],
      "metadata": {
        "colab": {
          "base_uri": "https://localhost:8080/"
        },
        "id": "H1NZlq2Pzuw5",
        "outputId": "c95f7663-7ee8-41f9-bfe7-33916994ee05"
      },
      "execution_count": 4,
      "outputs": [
        {
          "name": "stdout",
          "output_type": "stream",
          "text": [
            "XD12\n"
          ]
        }
      ]
    },
    {
      "cell_type": "code",
      "source": [
        "print(x)"
      ],
      "metadata": {
        "colab": {
          "base_uri": "https://localhost:8080/"
        },
        "id": "AObyEYKwzzlz",
        "outputId": "06df5d9c-1b8a-4851-aceb-662862feafd1"
      },
      "execution_count": 5,
      "outputs": [
        {
          "output_type": "stream",
          "name": "stdout",
          "text": [
            "12\n"
          ]
        }
      ]
    }
  ]
}